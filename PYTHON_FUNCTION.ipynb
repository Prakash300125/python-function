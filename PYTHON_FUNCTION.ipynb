{
  "nbformat": 4,
  "nbformat_minor": 0,
  "metadata": {
    "colab": {
      "provenance": []
    },
    "kernelspec": {
      "name": "python3",
      "display_name": "Python 3"
    },
    "language_info": {
      "name": "python"
    }
  },
  "cells": [
    {
      "cell_type": "markdown",
      "source": [
        "\n",
        "1. What is the difference between a function and a method in Python?\n",
        "Function: Independent block of code defined using def.\n",
        "Method: Function associated with an object/class, called using '.' operator.\n",
        "\n",
        "Example:\n",
        "def greet(name):\n",
        "    return f\"Hello {name}\"\n",
        "print(greet(\"Prakash\"))\n",
        "\n",
        "text = \"python\"\n",
        "print(text.upper())  # Method\n",
        "2. Explain the concept of function arguments and parameters in Python.\n",
        "Parameters: Variables in function definition.\n",
        "Arguments: Actual values passed during function call.\n",
        "\n",
        "Example:\n",
        "def add(a, b): return a+b\n",
        "print(add(5, 3))  # 5, 3 are arguments\n",
        "3. What are the different ways to define and call a function in Python?\n",
        "Ways:\n",
        "- Normal def function\n",
        "- Lambda function\n",
        "- *args, **kwargs\n",
        "\n",
        "Example:\n",
        "def square(x): return x**2\n",
        "print(square(4))\n",
        "\n",
        "cube = lambda x: x**3\n",
        "print(cube(3))\n",
        "\n",
        "def add_all(*nums): return sum(nums)\n",
        "print(add_all(1,2,3,4))\n",
        "4. What is the purpose of the return statement in a Python function?\n",
        "It sends value back and exits function.\n",
        "\n",
        "Example:\n",
        "def multiply(a, b): return a*b\n",
        "print(multiply(5,6))\n",
        "5. What are iterators in Python and how do they differ from iterables?\n",
        "Iterable: Object you can loop (list, tuple, str)\n",
        "Iterator: Has __next__() method to fetch items one by one.\n",
        "\n",
        "Example:\n",
        "nums=[1,2,3]\n",
        "it=iter(nums)\n",
        "print(next(it))  # 1\n",
        "6. Explain the concept of generators in Python and how they are defined.\n",
        "Special functions using yield, produce items lazily.\n",
        "\n",
        "Example:\n",
        "def gen_numbers():\n",
        "  for i in range(3):\n",
        "    yield i\n",
        "for num in gen_numbers(): print(num)\n",
        "7. What are the advantages of using generators over regular functions?\n",
        "Advantages:\n",
        "- Memory efficient\n",
        "- Useful for infinite sequences\n",
        "\n",
        "Example:\n",
        "def infinite_count():\n",
        "  n=1\n",
        "  while True:\n",
        "    yield n\n",
        "    n+=1\n",
        "8. What is a lambda function in Python and when is it typically used?\n",
        "Lambda: Small anonymous one-line function.\n",
        "\n",
        "Example:\n",
        "square=lambda x: x**2\n",
        "print(square(5))\n",
        "9. Explain the purpose and usage of the map() function in Python.\n",
        "Applies a function to each iterable element.\n",
        "\n",
        "Example:\n",
        "nums=[1,2,3]\n",
        "squared=list(map(lambda x: x**2, nums))\n",
        "print(squared)\n",
        "10. What is the difference between map(), reduce(), and filter()?\n",
        "map(): Apply function to all elements\n",
        "filter(): Select elements matching condition\n",
        "reduce(): Combine elements into single result\n",
        "\n",
        "Example:\n",
        "from functools import reduce\n",
        "nums=[1,2,3,4,5]\n",
        "print(list(map(lambda x:x*2, nums)))\n",
        "print(list(filter(lambda x:x%2==0, nums)))\n",
        "print(reduce(lambda x,y:x+y, nums))\n",
        "\n",
        "> Add blockquote\n",
        "\n"
      ],
      "metadata": {
        "id": "3vHZcZzR2uFx"
      }
    },
    {
      "cell_type": "code",
      "source": [
        "\"\"\"\n",
        "Write a Python function that takes a list of numbers as input and returns the sum of all even numbers in\n",
        "the list.\n",
        "\"\"\"\n",
        "def sum_of_evens(numbers):\n",
        "    if not numbers:\n",
        "        return 0\n",
        "    return sum(num for num in numbers if num % 2 == 0)\n",
        "\n",
        "nums = [10, 15, 20, 25, 30]\n",
        "print(\"Sum of even numbers:\", sum_of_evens(nums))"
      ],
      "metadata": {
        "colab": {
          "base_uri": "https://localhost:8080/"
        },
        "id": "GpDQWWyu3DCJ",
        "outputId": "920009ab-af5f-4149-c63b-f1d9b9fa4465"
      },
      "execution_count": 4,
      "outputs": [
        {
          "output_type": "stream",
          "name": "stdout",
          "text": [
            "Sum of even numbers: 60\n"
          ]
        }
      ]
    },
    {
      "cell_type": "code",
      "source": [
        "\"\"\"\n",
        "Create a Python function that accepts a string and returns the reverse of that string.\n",
        "\"\"\"\n",
        "def reverse_string(text):\n",
        "    return text[::-1]"
      ],
      "metadata": {
        "id": "-6ru94Pm3XX3"
      },
      "execution_count": 5,
      "outputs": []
    },
    {
      "cell_type": "code",
      "source": [
        "\"\"\"\n",
        " Implement a Python function that takes a list of integers and returns a new list containing the squares of\n",
        "each number.\n",
        "\"\"\"\n",
        "def square_list(numbers):\n",
        "    return [num ** 2 for num in numbers]\n"
      ],
      "metadata": {
        "id": "ZUf7Rs_14e0T"
      },
      "execution_count": 6,
      "outputs": []
    },
    {
      "cell_type": "code",
      "source": [
        "\"\"\"\n",
        " Write a Python function that checks if a given number is prime or not from 1 to 200.\n",
        " \"\"\"\n",
        "\n",
        "def is_prime(n):\n",
        "\n",
        "    if n <= 1:\n",
        "        return False\n",
        "    for i in range(2, int(n**0.5) + 1):\n",
        "        if n % i == 0:\n",
        "            return False\n",
        "    return True"
      ],
      "metadata": {
        "id": "R-7E-7Yc4toe"
      },
      "execution_count": 8,
      "outputs": []
    },
    {
      "cell_type": "code",
      "source": [
        "\"\"\"\n",
        "Create an iterator class in Python that generates the Fibonacci sequence up to a specified number of\n",
        "terms.\"\"\"\n",
        "class FibonacciIterator:\n",
        "    def __init__(self, n_terms):\n",
        "        self.n_terms = n_terms\n",
        "        self.count = 0\n",
        "        self.a, self.b = 0, 1\n",
        "\n",
        "    def __iter__(self):\n",
        "        return self\n",
        "\n",
        "    def __next__(self):\n",
        "        if self.count >= self.n_terms:\n",
        "            raise StopIteration\n",
        "        if self.count == 0:\n",
        "            self.count += 1\n",
        "            return 0\n",
        "        elif self.count == 1:\n",
        "            self.count += 1\n",
        "            return 1\n",
        "        else:\n",
        "            self.a, self.b = self.b, self.a + self.b\n",
        "            self.count += 1\n",
        "            return self.b\n",
        "\n",
        "\n"
      ],
      "metadata": {
        "id": "Y4o6-g2o5VB8"
      },
      "execution_count": 9,
      "outputs": []
    },
    {
      "cell_type": "code",
      "source": [
        "\"\"\"\n",
        " Write a generator function in Python that yields the powers of 2 up to a given exponent.\n",
        " \"\"\"\n",
        "def powers_of_two(limit):\n",
        "    for exp in range(limit + 1):\n",
        "        yield 2 ** exp\n",
        "\n",
        "\n"
      ],
      "metadata": {
        "id": "EuL9Gy8f6H6Q"
      },
      "execution_count": 10,
      "outputs": []
    },
    {
      "cell_type": "code",
      "source": [
        "\"\"\"\n",
        " Implement a generator function that reads a file line by line and yields each line as a string.\n",
        " \"\"\"\n",
        "def read_file_line_by_line(filename):\n",
        "\n",
        "    with open(filename, 'r') as file:\n",
        "        for line in file:\n",
        "            yield line.strip()\n"
      ],
      "metadata": {
        "id": "tBcWm6Og6jvy"
      },
      "execution_count": 11,
      "outputs": []
    },
    {
      "cell_type": "code",
      "source": [
        "\"\"\"\n",
        " Use a lambda function in Python to sort a list of tuples based on the second element of each tuple\n",
        "\"\"\"\n",
        "\n",
        "data = [(1, 5), (3, 2), (2, 8), (4, 1)]\n",
        "sorted_data = sorted(data, key=lambda x: x[1])\n",
        "print(sorted_data)"
      ],
      "metadata": {
        "colab": {
          "base_uri": "https://localhost:8080/"
        },
        "id": "muMB7QIf7S-l",
        "outputId": "dd5d73da-fe51-45e3-b9e0-297ba6009595"
      },
      "execution_count": 12,
      "outputs": [
        {
          "output_type": "stream",
          "name": "stdout",
          "text": [
            "[(4, 1), (3, 2), (1, 5), (2, 8)]\n"
          ]
        }
      ]
    },
    {
      "cell_type": "code",
      "source": [
        "\"\"\"\n",
        "Write a Python program that uses `map()` to convert a list of temperatures from Celsius to Fahrenheit.\n",
        "\"\"\"\"\n"
      ],
      "metadata": {
        "id": "PxLiDeX48B6a"
      },
      "execution_count": null,
      "outputs": []
    },
    {
      "cell_type": "code",
      "metadata": {
        "colab": {
          "base_uri": "https://localhost:8080/"
        },
        "id": "1b357fcb",
        "outputId": "34d5a0d1-3a2c-428f-feed-1913c6e6461d"
      },
      "source": [
        "\"\"\"\n",
        "Write a Python program that uses `map()` to convert a list of temperatures from Celsius to Fahrenheit.\n",
        "\"\"\"\n",
        "def celsius_to_fahrenheit(celsius):\n",
        "\n",
        "  return (celsius * 9/5) + 32\n",
        "\n",
        "celsius_temperatures = [0, 10, 25, 37.8, 100]\n",
        "fahrenheit_temperatures = list(map(celsius_to_fahrenheit, celsius_temperatures))\n",
        "\n",
        "print(\"Celsius temperatures:\", celsius_temperatures)\n",
        "print(\"Fahrenheit temperatures:\", fahrenheit_temperatures)"
      ],
      "execution_count": 13,
      "outputs": [
        {
          "output_type": "stream",
          "name": "stdout",
          "text": [
            "Celsius temperatures: [0, 10, 25, 37.8, 100]\n",
            "Fahrenheit temperatures: [32.0, 50.0, 77.0, 100.03999999999999, 212.0]\n"
          ]
        }
      ]
    },
    {
      "cell_type": "code",
      "source": [
        "\"\"\"\n",
        "Create a Python program that uses `filter()` to remove all the vowels from a given string.\n",
        "\"\"\"\n",
        "def remove_vowels(text):\n",
        "    vowels = 'aeiouAEIOU'\n",
        "    return ''.join(filter(lambda x: x not in vowels, text))\n"
      ],
      "metadata": {
        "id": "maBgUHb7-YfJ"
      },
      "execution_count": 14,
      "outputs": []
    },
    {
      "cell_type": "code",
      "source": [],
      "metadata": {
        "id": "SiWy2Gg--oAF"
      },
      "execution_count": null,
      "outputs": []
    }
  ]
}